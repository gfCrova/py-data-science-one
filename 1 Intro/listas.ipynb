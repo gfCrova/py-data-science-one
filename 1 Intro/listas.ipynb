{
 "cells": [
  {
   "cell_type": "markdown",
   "metadata": {},
   "source": [
    "# **Listas**"
   ]
  },
  {
   "cell_type": "code",
   "execution_count": 3,
   "metadata": {},
   "outputs": [
    {
     "data": {
      "text/plain": [
       "[16, 29, 10]"
      ]
     },
     "execution_count": 3,
     "metadata": {},
     "output_type": "execute_result"
    }
   ],
   "source": [
    "edades = [16, 29, 10, 46, 90]\n",
    "\n",
    "edades[0:3] # Desde 0 hasta 3 sin contar el ultimo"
   ]
  },
  {
   "cell_type": "code",
   "execution_count": 2,
   "metadata": {},
   "outputs": [
    {
     "name": "stdout",
     "output_type": "stream",
     "text": [
      "El elemento Mariana de la lista es de tipo  <class 'str'>\n",
      "El elemento 26 de la lista es de tipo  <class 'int'>\n",
      "El elemento True de la lista es de tipo  <class 'bool'>\n",
      "El elemento México de la lista es de tipo  <class 'str'>\n"
     ]
    }
   ],
   "source": [
    "# Lista con diferents tipos de datos\n",
    "\n",
    "lista_mixta = [\"Mariana\", 26, True, \"México\"]\n",
    "\n",
    "for elemento in lista_mixta:\n",
    "    print(f'El elemento {elemento} de la lista es de tipo ', type(elemento))"
   ]
  },
  {
   "cell_type": "code",
   "execution_count": 1,
   "metadata": {},
   "outputs": [
    {
     "name": "stdout",
     "output_type": "stream",
     "text": [
      "<class 'str'>\n",
      "<class 'bool'>\n",
      "<class 'bool'>\n",
      "<class 'str'>\n",
      "<class 'int'>\n"
     ]
    }
   ],
   "source": [
    "lista = ['int', False, True, '18', 2020]\n",
    "\n",
    "for elemento in lista:\n",
    " print(type(elemento))"
   ]
  }
 ],
 "metadata": {
  "kernelspec": {
   "display_name": "Python 3",
   "language": "python",
   "name": "python3"
  },
  "language_info": {
   "codemirror_mode": {
    "name": "ipython",
    "version": 3
   },
   "file_extension": ".py",
   "mimetype": "text/x-python",
   "name": "python",
   "nbconvert_exporter": "python",
   "pygments_lexer": "ipython3",
   "version": "3.10.5"
  },
  "orig_nbformat": 4
 },
 "nbformat": 4,
 "nbformat_minor": 2
}
